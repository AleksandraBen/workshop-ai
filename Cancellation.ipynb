{
 "cells": [
  {
   "cell_type": "code",
   "execution_count": 34,
   "metadata": {},
   "outputs": [],
   "source": [
    "import pandas as pd\n",
    "import os\n",
    "from tqdm import tqdm\n",
    "from concurrent.futures import ThreadPoolExecutor, as_completed\n",
    "\n",
    "def read_and_process_csv_files(directory, start_year, end_year, chunksize=500000, processed_dir='processed_chunks'):\n",
    "    if not os.path.exists(processed_dir):\n",
    "        os.makedirs(processed_dir)\n",
    "\n",
    "    for year in range(start_year, end_year + 1):\n",
    "        filename = f'{year}.csv'\n",
    "        file_path = os.path.join(directory, filename)\n",
    "        \n",
    "        if os.path.exists(file_path):\n",
    "            dtype_dict = {\n",
    "                'ORIGIN': str,\n",
    "                'DEST': str,\n",
    "                'CANCELLED': float,\n",
    "                'CRS_ELAPSED_TIME': float,\n",
    "                'FL_DATE': str,\n",
    "                'OP_CARRIER': str\n",
    "            }\n",
    "            \n",
    "            usecols = ['CANCELLED', 'OP_CARRIER', 'ORIGIN', 'DEST', 'CRS_DEP_TIME', 'FL_DATE']\n",
    "            \n",
    "            # Count the total number of chunks to be processed\n",
    "            total_chunks = sum(1 for _ in pd.read_csv(file_path, chunksize=chunksize, usecols=usecols))\n",
    "            \n",
    "            # Use tqdm for progress bar\n",
    "            with tqdm(total=total_chunks, desc=f'Processing {filename}') as pbar:\n",
    "                chunk_iter = pd.read_csv(file_path, chunksize=chunksize, dtype=dtype_dict, usecols=usecols)\n",
    "                \n",
    "                # Create a ThreadPoolExecutor with a reasonable number of threads\n",
    "                with ThreadPoolExecutor(max_workers=os.cpu_count() * 2) as executor:\n",
    "                    futures = []\n",
    "                    chunk_count = 0\n",
    "                    for chunk in chunk_iter:\n",
    "                        if 'CANCELLED' not in chunk.columns:\n",
    "                            print(f\"'CANCELLED' column is missing in chunk {chunk_count} of {filename}\")\n",
    "                            continue\n",
    "                        \n",
    "                        # Submit each chunk processing task to the executor\n",
    "                        future = executor.submit(process_chunk, chunk.copy(), chunk_count, filename)\n",
    "                        futures.append(future)\n",
    "                        \n",
    "                        chunk_count += 1\n",
    "                        pbar.update(1)  # Update progress bar by 1 chunk\n",
    "            \n",
    "            # Wait for all futures to complete\n",
    "            for future in as_completed(futures):\n",
    "                prepared_chunk, chunk_count, filename = future.result()\n",
    "                if prepared_chunk.empty:\n",
    "                    print(f\"Prepared chunk {chunk_count} of {filename} is empty.\")\n",
    "                else:\n",
    "                    os.makedirs(os.path.join(processed_dir, f'{year}'), exist_ok=True)\n",
    "                    processed_chunk_file = os.path.join(processed_dir, f'{year}', f'chunk_{year}_{chunk_count}.csv')\n",
    "                    prepared_chunk.to_csv(processed_chunk_file, index=False)                        \n",
    "        \n",
    "        else:\n",
    "            print(f\"File {filename} does not exist in the directory.\")\n",
    "\n",
    "def process_chunk(chunk, chunk_count, filename):\n",
    "    cleaned_chunk = clean_data(chunk)\n",
    "    prepared_chunk = prepare_data(cleaned_chunk)\n",
    "    \n",
    "    return prepared_chunk, chunk_count, filename\n",
    "\n",
    "def clean_data(df):\n",
    "    df = df.drop_duplicates()\n",
    "\n",
    "    numerical_columns = df.select_dtypes(include=['number']).columns\n",
    "    df.loc[:, numerical_columns] = df.loc[:, numerical_columns].fillna(df.loc[:, numerical_columns].mean())\n",
    "\n",
    "    categorical_columns = df.select_dtypes(include=['object']).columns\n",
    "    for col in categorical_columns:\n",
    "        mode_value = df[col].mode()[0]\n",
    "        df.loc[:, col] = df.loc[:, col].fillna(mode_value)\n",
    "\n",
    "    df = df.dropna()\n",
    "\n",
    "    return df\n",
    "\n",
    "def frequency_encode(df, column):\n",
    "    freq_encoding = df.groupby(column).size() / len(df)\n",
    "    df[column + '_FE'] = df[column].map(freq_encoding)\n",
    "    df.drop(column, axis=1, inplace=True)\n",
    "    return df\n",
    "\n",
    "def prepare_data(df):\n",
    "    df['FL_DATE'] = pd.to_datetime(df['FL_DATE'], errors='coerce')\n",
    "    df = df.dropna(subset=['FL_DATE'])\n",
    "\n",
    "    df['MONTH'] = df['FL_DATE'].dt.month\n",
    "    df['DAY_OF_WEEK'] = df['FL_DATE'].dt.dayofweek\n",
    "    \n",
    "    df['CRS_DEP_TIME'] = pd.to_numeric(df['CRS_DEP_TIME'], errors='coerce')\n",
    "    df['CRS_DEP_TIME'] = df['CRS_DEP_TIME'].fillna(0).astype(int)\n",
    "    \n",
    "    df['CRS_DEP_TIME'] = df['CRS_DEP_TIME'].apply(lambda x: int(str(x).zfill(4)[:2]))\n",
    "    \n",
    "    df.drop(columns=['FL_DATE'], inplace=True)\n",
    "    \n",
    "    df = frequency_encode(df, 'OP_CARRIER')\n",
    "    df = frequency_encode(df, 'ORIGIN')\n",
    "    df = frequency_encode(df, 'DEST')\n",
    "    \n",
    "    return df"
   ]
  },
  {
   "cell_type": "markdown",
   "metadata": {},
   "source": [
    "### Data preparation and analysis"
   ]
  },
  {
   "cell_type": "code",
   "execution_count": 43,
   "metadata": {},
   "outputs": [
    {
     "name": "stderr",
     "output_type": "stream",
     "text": [
      "Processing 2009.csv: 100%|██████████| 13/13 [00:11<00:00,  1.14it/s]\n",
      "Processing 2010.csv: 100%|██████████| 13/13 [00:11<00:00,  1.17it/s]\n",
      "Processing 2011.csv: 100%|██████████| 13/13 [00:10<00:00,  1.23it/s]\n",
      "Processing 2012.csv: 100%|██████████| 13/13 [00:10<00:00,  1.26it/s]\n",
      "Processing 2013.csv: 100%|██████████| 13/13 [00:10<00:00,  1.22it/s]\n",
      "Processing 2014.csv: 100%|██████████| 12/12 [00:09<00:00,  1.23it/s]\n",
      "Processing 2015.csv: 100%|██████████| 12/12 [00:09<00:00,  1.23it/s]\n",
      "Processing 2016.csv: 100%|██████████| 12/12 [00:09<00:00,  1.28it/s]\n",
      "Processing 2017.csv: 100%|██████████| 12/12 [00:09<00:00,  1.27it/s]\n",
      "Processing 2018.csv: 100%|██████████| 15/15 [00:12<00:00,  1.24it/s]\n"
     ]
    }
   ],
   "source": [
    "# Specify the directory and range of years\n",
    "directory = 'data/'\n",
    "start_year = 2009\n",
    "end_year = 2018\n",
    "\n",
    "# Process and save the chunks (assuming read_and_process_csv_files function is defined)\n",
    "read_and_process_csv_files(directory, start_year, end_year)"
   ]
  },
  {
   "cell_type": "code",
   "execution_count": 37,
   "metadata": {},
   "outputs": [],
   "source": [
    "import os\n",
    "import pandas as pd\n",
    "\n",
    "processed_dir = 'processed_chunks'\n",
    "\n",
    "years = [f for f in os.listdir(processed_dir) if os.path.isdir(os.path.join(processed_dir, f))]\n",
    "dfs = []\n",
    "\n",
    "for year in years:\n",
    "    year_dir = os.path.join(processed_dir, year)\n",
    "    files = [os.path.join(year_dir, f) for f in os.listdir(year_dir) if f.startswith('chunk_') and f.endswith('.csv')]\n",
    "    \n",
    "    for file in files:\n",
    "        df = pd.read_csv(file)\n",
    "        dfs.append(df)\n",
    "\n",
    "combined_df = pd.concat(dfs, ignore_index=True)"
   ]
  },
  {
   "cell_type": "code",
   "execution_count": 38,
   "metadata": {},
   "outputs": [
    {
     "name": "stdout",
     "output_type": "stream",
     "text": [
      "Unique values in target variable: [0. 1.]\n"
     ]
    }
   ],
   "source": [
    "# Separate features and target\n",
    "X = combined_df.drop(columns=['CANCELLED'])\n",
    "y = combined_df['CANCELLED']\n",
    "\n",
    "# Check unique values to ensure binary classification\n",
    "print(f'Unique values in target variable: {y.unique()}')\n"
   ]
  },
  {
   "cell_type": "code",
   "execution_count": 39,
   "metadata": {},
   "outputs": [
    {
     "data": {
      "image/png": "[encoded data removed]",
      "text/plain": [
       "<Figure size 640x480 with 1 Axes>"
      ]
     },
     "metadata": {},
     "output_type": "display_data"
    },
    {
     "name": "stdout",
     "output_type": "stream",
     "text": [
      "CANCELLED\n",
      "0.0    60574326\n",
      "1.0      973063\n",
      "Name: count, dtype: int64\n"
     ]
    }
   ],
   "source": [
    "import matplotlib.pyplot as plt\n",
    "\n",
    "# Plot the class distribution using matplotlib\n",
    "plt.hist(y, bins=2, edgecolor='k', alpha=0.7)\n",
    "plt.title('Class Distribution')\n",
    "plt.xlabel('Cancelled (0 or 1)')\n",
    "plt.ylabel('Frequency')\n",
    "plt.show()\n",
    "\n",
    "# Print class distribution\n",
    "print(y.value_counts())"
   ]
  },
  {
   "cell_type": "code",
   "execution_count": 40,
   "metadata": {},
   "outputs": [],
   "source": [
    "# Split the dataset\n",
    "from sklearn.model_selection import train_test_split\n",
    "X_train, X_test, y_train, y_test = train_test_split(X, y, test_size=0.2, random_state=42, stratify=y)\n"
   ]
  },
  {
   "cell_type": "code",
   "execution_count": 41,
   "metadata": {},
   "outputs": [
    {
     "data": {
      "image/png": "[encoded data removed]",
      "text/plain": [
       "<Figure size 640x480 with 1 Axes>"
      ]
     },
     "metadata": {},
     "output_type": "display_data"
    },
    {
     "name": "stdout",
     "output_type": "stream",
     "text": [
      "CANCELLED\n",
      "0.0    48459461\n",
      "1.0    48459461\n",
      "Name: count, dtype: int64\n"
     ]
    }
   ],
   "source": [
    "# Apply SMOTE to the training data\n",
    "from imblearn.over_sampling import SMOTE\n",
    "sm = SMOTE(random_state=42)\n",
    "X_resampled, y_resampled = sm.fit_resample(X_train, y_train)\n",
    "\n",
    "# Verify the new class distribution\n",
    "import matplotlib.pyplot as plt\n",
    "\n",
    "plt.hist(y_resampled, bins=2, edgecolor='k', alpha=0.7)\n",
    "plt.title('Class Distribution After SMOTE')\n",
    "plt.xlabel('Cancelled (0 or 1)')\n",
    "plt.ylabel('Frequency')\n",
    "plt.show()\n",
    "\n",
    "# Print new class distribution\n",
    "print(y_resampled.value_counts())"
   ]
  },
  {
   "cell_type": "code",
   "execution_count": 42,
   "metadata": {},
   "outputs": [
    {
     "name": "stdout",
     "output_type": "stream",
     "text": [
      "Accuracy: 0.9733160090135422\n",
      "Confusion Matrix:\n",
      "[[11960675   154190]\n",
      " [  174276    20337]]\n",
      "Classification Report:\n",
      "              precision    recall  f1-score   support\n",
      "\n",
      "         0.0       0.99      0.99      0.99  12114865\n",
      "         1.0       0.12      0.10      0.11    194613\n",
      "\n",
      "    accuracy                           0.97  12309478\n",
      "   macro avg       0.55      0.55      0.55  12309478\n",
      "weighted avg       0.97      0.97      0.97  12309478\n",
      "\n"
     ]
    }
   ],
   "source": [
    "# Initialize and train the model on the resampled data\n",
    "from sklearn.ensemble import RandomForestClassifier\n",
    "from sklearn.metrics import accuracy_score, confusion_matrix, classification_report\n",
    "\n",
    "model = RandomForestClassifier(n_estimators=100, random_state=42)\n",
    "model.fit(X_resampled, y_resampled)\n",
    "\n",
    "# Make predictions on the original test set\n",
    "y_pred = model.predict(X_test)\n",
    "\n",
    "# Evaluate the model\n",
    "accuracy = accuracy_score(y_test, y_pred)\n",
    "conf_matrix = confusion_matrix(y_test, y_pred)\n",
    "class_report = classification_report(y_test, y_pred)\n",
    "\n",
    "print(f'Accuracy: {accuracy}')\n",
    "print(f'Confusion Matrix:\\n{conf_matrix}')\n",
    "print(f'Classification Report:\\n{class_report}')"
   ]
  }
 ],
 "metadata": {
  "kernelspec": {
   "display_name": "Python 3",
   "language": "python",
   "name": "python3"
  },
  "language_info": {
   "codemirror_mode": {
    "name": "ipython",
    "version": 3
   },
   "file_extension": ".py",
   "mimetype": "text/x-python",
   "name": "python",
   "nbconvert_exporter": "python",
   "pygments_lexer": "ipython3",
   "version": "3.11.9"
  }
 },
 "nbformat": 4,
 "nbformat_minor": 2
}
